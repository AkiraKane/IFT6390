{
 "cells": [
  {
   "cell_type": "markdown",
   "metadata": {
    "deletable": true,
    "editable": true
   },
   "source": [
    "# Démo 10 : Réseaux de neurones\n",
    "\n",
    "Dans ce TP nous allons découvrir une bibliothèque qui permet de construire des réseaux de neurones. Il s'agit de **Keras**. **Contrairement à ce qui est demandé dans le devoir 2**, ici le gros du travail sera effectué par Keras, c'est à dire qu'on n'aura pas besoin d'écrire explicitement les équations de rétropropagation du gradient.\n",
    "\n",
    "Tout d'abord, vérifiez que Keras est installé sur votre ordinateur en exécutant la cellule suivante :"
   ]
  },
  {
   "cell_type": "code",
   "execution_count": 1,
   "metadata": {
    "collapsed": false,
    "deletable": true,
    "editable": true
   },
   "outputs": [
    {
     "name": "stderr",
     "output_type": "stream",
     "text": [
      "Using Theano backend.\n"
     ]
    }
   ],
   "source": [
    "import keras"
   ]
  },
  {
   "cell_type": "markdown",
   "metadata": {
    "deletable": true,
    "editable": true
   },
   "source": [
    "Comme d'habitude on a aussi besoin de numpy, matplotlib et sklearn."
   ]
  },
  {
   "cell_type": "code",
   "execution_count": 2,
   "metadata": {
    "collapsed": true,
    "deletable": true,
    "editable": true
   },
   "outputs": [],
   "source": [
    "import sklearn\n",
    "import numpy as np\n",
    "%matplotlib inline\n",
    "import matplotlib.pyplot as plt"
   ]
  },
  {
   "cell_type": "code",
   "execution_count": 3,
   "metadata": {
    "collapsed": true,
    "deletable": true,
    "editable": true
   },
   "outputs": [],
   "source": [
    "from sklearn import datasets\n",
    "from keras.utils.np_utils import to_categorical\n",
    "\n",
    "iris = datasets.load_iris()\n",
    "\n",
    "np.random.seed(0)\n",
    "indices = np.random.permutation(len(iris.target))\n",
    "iris_train_x = iris.data[indices[:90]]\n",
    "iris_valid_x = iris.data[indices[90:120]]\n",
    "iris_test_x = iris.data[indices[120:]]\n",
    "\n",
    "# pour les valeurs des cibles, on va utiliser la fonction\n",
    "# to_categorical de keras qui retourne les variables sous forme\n",
    "# one_hot\n",
    "iris_train_y = to_categorical(iris.target[indices[:90]], 3)\n",
    "iris_valid_y = to_categorical(iris.target[indices[90:120]], 3)\n",
    "iris_test_y = to_categorical(iris.target[indices[120:]], 3)"
   ]
  },
  {
   "cell_type": "markdown",
   "metadata": {
    "deletable": true,
    "editable": true
   },
   "source": [
    "## Premiers pas avec Keras"
   ]
  },
  {
   "cell_type": "markdown",
   "metadata": {
    "deletable": true,
    "editable": true
   },
   "source": [
    "Pour illustrer le fonctionnement de Keras, on va de nouveau utiliser les données Iris. La tache qui nous intéresse est la classification en fonction des traits caractéristiques des fleurs.\n",
    "\n",
    "Tout d'abord on va construire un réseau de neurones tout simple avec :\n",
    " - une couche d'entrée (dimension 4 = le nombre de traits caractéristiques)\n",
    " - une couche cachée (dimension 5)\n",
    " - une couche de sortie (dimension 3 = le nombre de classes)\n",
    " \n",
    "On va utiliser des non-linéarités sigmoid. Voici comment s'implémente un tel réseau avec Keras:"
   ]
  },
  {
   "cell_type": "code",
   "execution_count": 4,
   "metadata": {
    "collapsed": false,
    "deletable": true,
    "editable": true
   },
   "outputs": [],
   "source": [
    "from keras.models import Sequential\n",
    "from keras.layers import Dense, Activation\n",
    "from keras import backend as K\n",
    "from keras.optimizers import SGD\n",
    "\n",
    "model = Sequential()\n",
    "model.add(Dense(5, input_dim=4))\n",
    "model.add(Activation('sigmoid'))\n",
    "model.add(Dense(3))\n",
    "model.add(Activation('sigmoid'))\n",
    "\n",
    "sgd = SGD(0.1)\n",
    "model.compile(loss='categorical_crossentropy', optimizer=sgd, metrics=['accuracy'])"
   ]
  },
  {
   "cell_type": "markdown",
   "metadata": {
    "deletable": true,
    "editable": true
   },
   "source": [
    "On peut afficher les dimensions des paramètres et appliquer notre réseau à un exemple de test pour se convaincre qu'il fait bien ce qu'on lui demande:"
   ]
  },
  {
   "cell_type": "code",
   "execution_count": 5,
   "metadata": {
    "collapsed": false,
    "deletable": true,
    "editable": true
   },
   "outputs": [
    {
     "ename": "SyntaxError",
     "evalue": "Missing parentheses in call to 'print' (<ipython-input-5-18f96b77884b>, line 2)",
     "output_type": "error",
     "traceback": [
      "\u001b[0;36m  File \u001b[0;32m\"<ipython-input-5-18f96b77884b>\"\u001b[0;36m, line \u001b[0;32m2\u001b[0m\n\u001b[0;31m    print p.shape\u001b[0m\n\u001b[0m          ^\u001b[0m\n\u001b[0;31mSyntaxError\u001b[0m\u001b[0;31m:\u001b[0m Missing parentheses in call to 'print'\n"
     ]
    }
   ],
   "source": [
    "for p in model.get_weights():\n",
    "    print(p.shape)"
   ]
  },
  {
   "cell_type": "code",
   "execution_count": 9,
   "metadata": {
    "collapsed": false,
    "deletable": true,
    "editable": true
   },
   "outputs": [
    {
     "name": "stdout",
     "output_type": "stream",
     "text": [
      "vecteur de probabilités: [[ 0.51216829  0.75854349  0.2351082 ]]\n",
      "classe prédite: [1]\n",
      "classe réelle: [2]\n"
     ]
    }
   ],
   "source": [
    "# notre exemple de test\n",
    "x = iris_test_x[1:2,:]\n",
    "y = iris_test_y[1:2,:]\n",
    "\n",
    "print('vecteur de probabilités:', model.predict(iris_test_x[1:2,:], verbose=False))\n",
    "print('classe prédite:', model.predict_classes(iris_test_x[1:2,:], verbose=False))\n",
    "print('classe réelle:', y.argmax(axis=1))"
   ]
  },
  {
   "cell_type": "markdown",
   "metadata": {
    "deletable": true,
    "editable": true
   },
   "source": [
    "### Apprentissage des paramètres"
   ]
  },
  {
   "cell_type": "markdown",
   "metadata": {
    "deletable": true,
    "editable": true
   },
   "source": [
    "Maintenant on a un réseau avec ses paramètres (les poids W et les biais b), il ne nous reste plus qu'à l'entrainer.\n",
    "\n",
    "C'est à dire qu'on va effectuer une descente de gradient sur des mini batch de nos données d'entrainement. Comme on a déjà préparé les paramètres de notre modèle, c'est Keras qui s'occupe de la partie descente de gradient, et donc cela tient en une ligne:"
   ]
  },
  {
   "cell_type": "code",
   "execution_count": 10,
   "metadata": {
    "collapsed": false,
    "deletable": true,
    "editable": true
   },
   "outputs": [
    {
     "name": "stdout",
     "output_type": "stream",
     "text": [
      "Train on 90 samples, validate on 30 samples\n",
      "Epoch 1/100\n",
      "90/90 [==============================] - 0s - loss: 1.2144 - acc: 0.3667 - val_loss: 1.2778 - val_acc: 0.2000\n",
      "Epoch 2/100\n",
      "90/90 [==============================] - 0s - loss: 1.1899 - acc: 0.3667 - val_loss: 1.2582 - val_acc: 0.2000\n",
      "Epoch 3/100\n",
      "90/90 [==============================] - 0s - loss: 1.1705 - acc: 0.3667 - val_loss: 1.2442 - val_acc: 0.2000\n",
      "Epoch 4/100\n",
      "90/90 [==============================] - 0s - loss: 1.1566 - acc: 0.3667 - val_loss: 1.2335 - val_acc: 0.2000\n",
      "Epoch 5/100\n",
      "90/90 [==============================] - 0s - loss: 1.1465 - acc: 0.3667 - val_loss: 1.2239 - val_acc: 0.2000\n",
      "Epoch 6/100\n",
      "90/90 [==============================] - 0s - loss: 1.1389 - acc: 0.3667 - val_loss: 1.2163 - val_acc: 0.2000\n",
      "Epoch 7/100\n",
      "90/90 [==============================] - 0s - loss: 1.1327 - acc: 0.3667 - val_loss: 1.2094 - val_acc: 0.2000\n",
      "Epoch 8/100\n",
      "90/90 [==============================] - 0s - loss: 1.1278 - acc: 0.3667 - val_loss: 1.2038 - val_acc: 0.2000\n",
      "Epoch 9/100\n",
      "90/90 [==============================] - 0s - loss: 1.1231 - acc: 0.3667 - val_loss: 1.1991 - val_acc: 0.2000\n",
      "Epoch 10/100\n",
      "90/90 [==============================] - 0s - loss: 1.1187 - acc: 0.3667 - val_loss: 1.1945 - val_acc: 0.2000\n",
      "Epoch 11/100\n",
      "90/90 [==============================] - 0s - loss: 1.1154 - acc: 0.3667 - val_loss: 1.1903 - val_acc: 0.2000\n",
      "Epoch 12/100\n",
      "90/90 [==============================] - 0s - loss: 1.1137 - acc: 0.3667 - val_loss: 1.1876 - val_acc: 0.2000\n",
      "Epoch 13/100\n",
      "90/90 [==============================] - 0s - loss: 1.1111 - acc: 0.3667 - val_loss: 1.1839 - val_acc: 0.2000\n",
      "Epoch 14/100\n",
      "90/90 [==============================] - 0s - loss: 1.1099 - acc: 0.3667 - val_loss: 1.1818 - val_acc: 0.2000\n",
      "Epoch 15/100\n",
      "90/90 [==============================] - 0s - loss: 1.1087 - acc: 0.3667 - val_loss: 1.1781 - val_acc: 0.2000\n",
      "Epoch 16/100\n",
      "90/90 [==============================] - 0s - loss: 1.1063 - acc: 0.3667 - val_loss: 1.1749 - val_acc: 0.2000\n",
      "Epoch 17/100\n",
      "90/90 [==============================] - 0s - loss: 1.1053 - acc: 0.3667 - val_loss: 1.1723 - val_acc: 0.2000\n",
      "Epoch 18/100\n",
      "90/90 [==============================] - 0s - loss: 1.1039 - acc: 0.3667 - val_loss: 1.1702 - val_acc: 0.2000\n",
      "Epoch 19/100\n",
      "90/90 [==============================] - 0s - loss: 1.1032 - acc: 0.3667 - val_loss: 1.1683 - val_acc: 0.2000\n",
      "Epoch 20/100\n",
      "90/90 [==============================] - 0s - loss: 1.1019 - acc: 0.3667 - val_loss: 1.1660 - val_acc: 0.2000\n",
      "Epoch 21/100\n",
      "90/90 [==============================] - 0s - loss: 1.1014 - acc: 0.3667 - val_loss: 1.1635 - val_acc: 0.2000\n",
      "Epoch 22/100\n",
      "90/90 [==============================] - 0s - loss: 1.1002 - acc: 0.3667 - val_loss: 1.1613 - val_acc: 0.2000\n",
      "Epoch 23/100\n",
      "90/90 [==============================] - 0s - loss: 1.0998 - acc: 0.3667 - val_loss: 1.1588 - val_acc: 0.2000\n",
      "Epoch 24/100\n",
      "90/90 [==============================] - 0s - loss: 1.0987 - acc: 0.3667 - val_loss: 1.1574 - val_acc: 0.2000\n",
      "Epoch 25/100\n",
      "90/90 [==============================] - 0s - loss: 1.0982 - acc: 0.3667 - val_loss: 1.1556 - val_acc: 0.2000\n",
      "Epoch 26/100\n",
      "90/90 [==============================] - 0s - loss: 1.0981 - acc: 0.3667 - val_loss: 1.1551 - val_acc: 0.2000\n",
      "Epoch 27/100\n",
      "90/90 [==============================] - 0s - loss: 1.0969 - acc: 0.3667 - val_loss: 1.1536 - val_acc: 0.2000\n",
      "Epoch 28/100\n",
      "90/90 [==============================] - 0s - loss: 1.0964 - acc: 0.3667 - val_loss: 1.1522 - val_acc: 0.2000\n",
      "Epoch 29/100\n",
      "90/90 [==============================] - 0s - loss: 1.0962 - acc: 0.3667 - val_loss: 1.1510 - val_acc: 0.2000\n",
      "Epoch 30/100\n",
      "90/90 [==============================] - 0s - loss: 1.0957 - acc: 0.3667 - val_loss: 1.1501 - val_acc: 0.2000\n",
      "Epoch 31/100\n",
      "90/90 [==============================] - 0s - loss: 1.0954 - acc: 0.3667 - val_loss: 1.1492 - val_acc: 0.2000\n",
      "Epoch 32/100\n",
      "90/90 [==============================] - 0s - loss: 1.0950 - acc: 0.3667 - val_loss: 1.1484 - val_acc: 0.2000\n",
      "Epoch 33/100\n",
      "90/90 [==============================] - 0s - loss: 1.0944 - acc: 0.3667 - val_loss: 1.1471 - val_acc: 0.2000\n",
      "Epoch 34/100\n",
      "90/90 [==============================] - 0s - loss: 1.0940 - acc: 0.3667 - val_loss: 1.1467 - val_acc: 0.2000\n",
      "Epoch 35/100\n",
      "90/90 [==============================] - 0s - loss: 1.0934 - acc: 0.3667 - val_loss: 1.1458 - val_acc: 0.2000\n",
      "Epoch 36/100\n",
      "90/90 [==============================] - 0s - loss: 1.0931 - acc: 0.3667 - val_loss: 1.1450 - val_acc: 0.2000\n",
      "Epoch 37/100\n",
      "90/90 [==============================] - 0s - loss: 1.0928 - acc: 0.3667 - val_loss: 1.1429 - val_acc: 0.2000\n",
      "Epoch 38/100\n",
      "90/90 [==============================] - 0s - loss: 1.0925 - acc: 0.3667 - val_loss: 1.1423 - val_acc: 0.2000\n",
      "Epoch 39/100\n",
      "90/90 [==============================] - 0s - loss: 1.0914 - acc: 0.3667 - val_loss: 1.1413 - val_acc: 0.2000\n",
      "Epoch 40/100\n",
      "90/90 [==============================] - 0s - loss: 1.0909 - acc: 0.3667 - val_loss: 1.1393 - val_acc: 0.2000\n",
      "Epoch 41/100\n",
      "90/90 [==============================] - 0s - loss: 1.0898 - acc: 0.3667 - val_loss: 1.1373 - val_acc: 0.2000\n",
      "Epoch 42/100\n",
      "90/90 [==============================] - 0s - loss: 1.0885 - acc: 0.3667 - val_loss: 1.1356 - val_acc: 0.2000\n",
      "Epoch 43/100\n",
      "90/90 [==============================] - 0s - loss: 1.0878 - acc: 0.3667 - val_loss: 1.1331 - val_acc: 0.2000\n",
      "Epoch 44/100\n",
      "90/90 [==============================] - 0s - loss: 1.0863 - acc: 0.3667 - val_loss: 1.1311 - val_acc: 0.2000\n",
      "Epoch 45/100\n",
      "90/90 [==============================] - 0s - loss: 1.0843 - acc: 0.3667 - val_loss: 1.1281 - val_acc: 0.2000\n",
      "Epoch 46/100\n",
      "90/90 [==============================] - 0s - loss: 1.0821 - acc: 0.3667 - val_loss: 1.1248 - val_acc: 0.2000\n",
      "Epoch 47/100\n",
      "90/90 [==============================] - 0s - loss: 1.0792 - acc: 0.3667 - val_loss: 1.1201 - val_acc: 0.2333\n",
      "Epoch 48/100\n",
      "90/90 [==============================] - 0s - loss: 1.0756 - acc: 0.4000 - val_loss: 1.1151 - val_acc: 0.2667\n",
      "Epoch 49/100\n",
      "90/90 [==============================] - 0s - loss: 1.0710 - acc: 0.4444 - val_loss: 1.1093 - val_acc: 0.3333\n",
      "Epoch 50/100\n",
      "90/90 [==============================] - 0s - loss: 1.0672 - acc: 0.5222 - val_loss: 1.1034 - val_acc: 0.4333\n",
      "Epoch 51/100\n",
      "90/90 [==============================] - 0s - loss: 1.0615 - acc: 0.6556 - val_loss: 1.0968 - val_acc: 0.4667\n",
      "Epoch 52/100\n",
      "90/90 [==============================] - 0s - loss: 1.0570 - acc: 0.5778 - val_loss: 1.0915 - val_acc: 0.4667\n",
      "Epoch 53/100\n",
      "90/90 [==============================] - 0s - loss: 1.0530 - acc: 0.5000 - val_loss: 1.0871 - val_acc: 0.4667\n",
      "Epoch 54/100\n",
      "90/90 [==============================] - 0s - loss: 1.0500 - acc: 0.4556 - val_loss: 1.0831 - val_acc: 0.4667\n",
      "Epoch 55/100\n",
      "90/90 [==============================] - 0s - loss: 1.0465 - acc: 0.4222 - val_loss: 1.0794 - val_acc: 0.4333\n",
      "Epoch 56/100\n",
      "90/90 [==============================] - 0s - loss: 1.0441 - acc: 0.4333 - val_loss: 1.0756 - val_acc: 0.4000\n",
      "Epoch 57/100\n",
      "90/90 [==============================] - 0s - loss: 1.0420 - acc: 0.4444 - val_loss: 1.0729 - val_acc: 0.3667\n",
      "Epoch 58/100\n",
      "90/90 [==============================] - 0s - loss: 1.0395 - acc: 0.3667 - val_loss: 1.0693 - val_acc: 0.4000\n",
      "Epoch 59/100\n",
      "90/90 [==============================] - 0s - loss: 1.0365 - acc: 0.3889 - val_loss: 1.0656 - val_acc: 0.4667\n",
      "Epoch 60/100\n",
      "90/90 [==============================] - 0s - loss: 1.0335 - acc: 0.4556 - val_loss: 1.0629 - val_acc: 0.4667\n",
      "Epoch 61/100\n",
      "90/90 [==============================] - 0s - loss: 1.0312 - acc: 0.3889 - val_loss: 1.0602 - val_acc: 0.4667\n",
      "Epoch 62/100\n",
      "90/90 [==============================] - 0s - loss: 1.0288 - acc: 0.5222 - val_loss: 1.0569 - val_acc: 0.4667\n",
      "Epoch 63/100\n",
      "90/90 [==============================] - 0s - loss: 1.0260 - acc: 0.5444 - val_loss: 1.0537 - val_acc: 0.4667\n",
      "Epoch 64/100\n",
      "90/90 [==============================] - 0s - loss: 1.0247 - acc: 0.5778 - val_loss: 1.0513 - val_acc: 0.4667\n",
      "Epoch 65/100\n",
      "90/90 [==============================] - 0s - loss: 1.0218 - acc: 0.5667 - val_loss: 1.0483 - val_acc: 0.5000\n",
      "Epoch 66/100\n",
      "90/90 [==============================] - 0s - loss: 1.0189 - acc: 0.6444 - val_loss: 1.0453 - val_acc: 0.5000\n",
      "Epoch 67/100\n"
     ]
    },
    {
     "name": "stdout",
     "output_type": "stream",
     "text": [
      "90/90 [==============================] - 0s - loss: 1.0157 - acc: 0.6556 - val_loss: 1.0423 - val_acc: 0.5333\n",
      "Epoch 68/100\n",
      "90/90 [==============================] - 0s - loss: 1.0132 - acc: 0.6889 - val_loss: 1.0394 - val_acc: 0.5333\n",
      "Epoch 69/100\n",
      "90/90 [==============================] - 0s - loss: 1.0109 - acc: 0.6889 - val_loss: 1.0367 - val_acc: 0.5333\n",
      "Epoch 70/100\n",
      "90/90 [==============================] - 0s - loss: 1.0082 - acc: 0.6889 - val_loss: 1.0336 - val_acc: 0.5000\n",
      "Epoch 71/100\n",
      "90/90 [==============================] - 0s - loss: 1.0060 - acc: 0.6889 - val_loss: 1.0307 - val_acc: 0.5000\n",
      "Epoch 72/100\n",
      "90/90 [==============================] - 0s - loss: 1.0026 - acc: 0.6111 - val_loss: 1.0271 - val_acc: 0.5000\n",
      "Epoch 73/100\n",
      "90/90 [==============================] - 0s - loss: 1.0000 - acc: 0.5889 - val_loss: 1.0237 - val_acc: 0.5000\n",
      "Epoch 74/100\n",
      "90/90 [==============================] - 0s - loss: 0.9976 - acc: 0.6111 - val_loss: 1.0196 - val_acc: 0.5000\n",
      "Epoch 75/100\n",
      "90/90 [==============================] - 0s - loss: 0.9952 - acc: 0.6111 - val_loss: 1.0147 - val_acc: 0.5000\n",
      "Epoch 76/100\n",
      "90/90 [==============================] - 0s - loss: 0.9912 - acc: 0.6111 - val_loss: 1.0106 - val_acc: 0.5000\n",
      "Epoch 77/100\n",
      "90/90 [==============================] - 0s - loss: 0.9880 - acc: 0.6111 - val_loss: 1.0076 - val_acc: 0.5000\n",
      "Epoch 78/100\n",
      "90/90 [==============================] - 0s - loss: 0.9857 - acc: 0.6333 - val_loss: 1.0050 - val_acc: 0.4333\n",
      "Epoch 79/100\n",
      "90/90 [==============================] - 0s - loss: 0.9822 - acc: 0.4889 - val_loss: 1.0008 - val_acc: 0.4333\n",
      "Epoch 80/100\n",
      "90/90 [==============================] - 0s - loss: 0.9796 - acc: 0.5556 - val_loss: 0.9967 - val_acc: 0.4333\n",
      "Epoch 81/100\n",
      "90/90 [==============================] - 0s - loss: 0.9757 - acc: 0.5111 - val_loss: 0.9930 - val_acc: 0.4333\n",
      "Epoch 82/100\n",
      "90/90 [==============================] - 0s - loss: 0.9726 - acc: 0.5444 - val_loss: 0.9888 - val_acc: 0.3000\n",
      "Epoch 83/100\n",
      "90/90 [==============================] - 0s - loss: 0.9696 - acc: 0.4556 - val_loss: 0.9839 - val_acc: 0.3000\n",
      "Epoch 84/100\n",
      "90/90 [==============================] - 0s - loss: 0.9659 - acc: 0.5111 - val_loss: 0.9796 - val_acc: 0.3000\n",
      "Epoch 85/100\n",
      "90/90 [==============================] - 0s - loss: 0.9629 - acc: 0.4667 - val_loss: 0.9749 - val_acc: 0.3000\n",
      "Epoch 86/100\n",
      "90/90 [==============================] - 0s - loss: 0.9594 - acc: 0.4667 - val_loss: 0.9706 - val_acc: 0.3000\n",
      "Epoch 87/100\n",
      "90/90 [==============================] - 0s - loss: 0.9568 - acc: 0.3778 - val_loss: 0.9662 - val_acc: 0.3000\n",
      "Epoch 88/100\n",
      "90/90 [==============================] - 0s - loss: 0.9526 - acc: 0.5333 - val_loss: 0.9614 - val_acc: 0.3000\n",
      "Epoch 89/100\n",
      "90/90 [==============================] - 0s - loss: 0.9491 - acc: 0.4556 - val_loss: 0.9571 - val_acc: 0.3000\n",
      "Epoch 90/100\n",
      "90/90 [==============================] - 0s - loss: 0.9456 - acc: 0.4000 - val_loss: 0.9522 - val_acc: 0.3000\n",
      "Epoch 91/100\n",
      "90/90 [==============================] - 0s - loss: 0.9422 - acc: 0.5111 - val_loss: 0.9474 - val_acc: 0.3000\n",
      "Epoch 92/100\n",
      "90/90 [==============================] - 0s - loss: 0.9382 - acc: 0.4000 - val_loss: 0.9422 - val_acc: 0.3667\n",
      "Epoch 93/100\n",
      "90/90 [==============================] - 0s - loss: 0.9346 - acc: 0.5556 - val_loss: 0.9379 - val_acc: 0.6000\n",
      "Epoch 94/100\n",
      "90/90 [==============================] - 0s - loss: 0.9307 - acc: 0.5222 - val_loss: 0.9327 - val_acc: 0.6333\n",
      "Epoch 95/100\n",
      "90/90 [==============================] - 0s - loss: 0.9271 - acc: 0.6111 - val_loss: 0.9277 - val_acc: 0.8000\n",
      "Epoch 96/100\n",
      "90/90 [==============================] - 0s - loss: 0.9232 - acc: 0.6889 - val_loss: 0.9220 - val_acc: 0.8000\n",
      "Epoch 97/100\n",
      "90/90 [==============================] - 0s - loss: 0.9193 - acc: 0.8667 - val_loss: 0.9168 - val_acc: 0.7667\n",
      "Epoch 98/100\n",
      "90/90 [==============================] - 0s - loss: 0.9151 - acc: 0.7889 - val_loss: 0.9112 - val_acc: 0.8000\n",
      "Epoch 99/100\n",
      "90/90 [==============================] - 0s - loss: 0.9113 - acc: 0.7000 - val_loss: 0.9053 - val_acc: 0.8667\n",
      "Epoch 100/100\n",
      "90/90 [==============================] - 0s - loss: 0.9066 - acc: 0.8778 - val_loss: 0.8997 - val_acc: 0.9000\n"
     ]
    }
   ],
   "source": [
    "logs = model.fit(iris_train_x, iris_train_y, nb_epoch=100,\n",
    "                 validation_data=(iris_valid_x, iris_valid_y))"
   ]
  },
  {
   "cell_type": "code",
   "execution_count": 11,
   "metadata": {
    "collapsed": false,
    "deletable": true,
    "editable": true
   },
   "outputs": [
    {
     "data": {
      "image/png": "[encoded data removed]",
      "text/plain": [
       "<matplotlib.figure.Figure at 0x110bbfb38>"
      ]
     },
     "metadata": {},
     "output_type": "display_data"
    },
    {
     "data": {
      "image/png": "[encoded data removed]",
      "text/plain": [
       "<matplotlib.figure.Figure at 0x110f655c0>"
      ]
     },
     "metadata": {},
     "output_type": "display_data"
    }
   ],
   "source": [
    "plt.plot(logs.history['acc'], label='train')\n",
    "plt.plot(logs.history['val_acc'], label='valid')\n",
    "plt.legend()\n",
    "plt.title('Pourcentage de classes correctes')\n",
    "plt.show()\n",
    "plt.plot(logs.history['loss'], label='train')\n",
    "plt.plot(logs.history['val_loss'], label='valid')\n",
    "plt.title('Fonction objectif sur l\\'ensemble d\\'entrainement')\n",
    "plt.show()"
   ]
  },
  {
   "cell_type": "markdown",
   "metadata": {
    "deletable": true,
    "editable": true
   },
   "source": [
    "## Différentiation automatique\n",
    "\n",
    "Pour bien comprendre la puissance de Keras (et des bibliothèques qui sont cachées derrière Keras, soit par exemple Theano développé ici même au laboratoire MILA), dans cette partie on va vérifier les gradients calculés."
   ]
  },
  {
   "cell_type": "markdown",
   "metadata": {
    "deletable": true,
    "editable": true
   },
   "source": [
    "La cellule qui suit n'est pas au programme, il n'est pas nécessaire de comprendre les détails.\n",
    "\n",
    "Ce qui nous intéresse ici c'est qu'on y créé une fonction `compute_grad_w1` qui va nous donner le gradient de la fonction objectif par rapport à la matrice de poids w1. Contrairement à ce qui est demandé dans le devoir où on effectue la rétropropagation du gradient étape par étape jusqu'à arriver à la matrice w1, ici c'est le modèle qui s'en charge. Sans même comprendre les détails de ce qui est effectué dans la cellule, ce qui est remarquable c'est qu'il n'y a nulle part de dérivée explicite ou de multiplication matrice/vecteur."
   ]
  },
  {
   "cell_type": "code",
   "execution_count": 12,
   "metadata": {
    "collapsed": false,
    "deletable": true,
    "editable": true
   },
   "outputs": [],
   "source": [
    "loss_sym = model.model.loss_functions[0](model.outputs[0], model.model.targets[0]).mean()\n",
    "w1 = model.layers[0].W\n",
    "grad_w1_sym = K.gradients(loss_sym, w1)\n",
    "compute_grad_w1 = K.function([model.inputs[0], model.model.targets[0]], grad_w1_sym)\n",
    "compute_loss = K.function([model.inputs[0], model.model.targets[0]], loss_sym)"
   ]
  },
  {
   "cell_type": "code",
   "execution_count": 14,
   "metadata": {
    "collapsed": false,
    "deletable": true,
    "editable": true
   },
   "outputs": [
    {
     "name": "stdout",
     "output_type": "stream",
     "text": [
      "(4, 5)\n",
      "[[ -7.91105688e-01  -4.07659709e-01   5.02983332e-01  -2.27029696e-01\n",
      "   -1.88899867e-04]\n",
      " [ -2.87674814e-01  -1.48239896e-01   1.82903022e-01  -8.25562552e-02\n",
      "   -6.86908606e-05]\n",
      " [ -6.88364685e-01  -3.54716897e-01   4.37660813e-01  -1.97545320e-01\n",
      "   -1.64367404e-04]\n",
      " [ -2.05482006e-01  -1.05885640e-01   1.30645022e-01  -5.89687526e-02\n",
      "   -4.90648999e-05]]\n"
     ]
    }
   ],
   "source": [
    "# exemple d'utilisation :\n",
    "grad_w1 = compute_grad_w1([x, y])\n",
    "print(grad_w1.shape)\n",
    "print(grad_w1)"
   ]
  },
  {
   "cell_type": "markdown",
   "metadata": {
    "deletable": true,
    "editable": true
   },
   "source": [
    "## Vérification du gradient par différences finies\n",
    "\n",
    "On va maintenant vérifier que le gradient calculé par Keras est juste. Pour cela on va calculer une approximation du gradient en utilisant la méthode de la différence finie.\n",
    "\n",
    "Pour chaque composante de w1, on va:\n",
    " 1. calculer la valeur de la fonction objectif $L$\n",
    " 2. ajouter une petite valeur $\\epsilon$ à la composante\n",
    " 3. recalculer la valeur de la fonction objectif $L'$\n",
    " 4. remettre à l'ancienne valeur la composante (c'est à dire soustraire $\\epsilon$)\n",
    "\n",
    "Le gradient par différences finies sera dans ce cas donné par:\n",
    "$\\Big( \\frac{\\partial L}{\\partial W_{1}} \\Big)_{ij} = \\frac{1}{\\epsilon} (L' - L)$"
   ]
  },
  {
   "cell_type": "code",
   "execution_count": 15,
   "metadata": {
    "collapsed": false,
    "deletable": true,
    "editable": true
   },
   "outputs": [],
   "source": [
    "grad_w1_diff = np.zeros((4, 5))\n",
    "\n",
    "epsilon = 1e-3\n",
    "L = compute_loss([x, y])\n",
    "\n",
    "for i in range(4):\n",
    "    for j in range(5):\n",
    "        w1_val = w1.get_value()\n",
    "        w1_val[i, j] += epsilon\n",
    "        w1.set_value(w1_val)\n",
    "        L_prime = compute_loss([x, y])\n",
    "        w1_val[i, j] -= epsilon\n",
    "        w1.set_value(w1_val)\n",
    "\n",
    "        grad_w1_diff[i, j] = (L_prime - L) / epsilon"
   ]
  },
  {
   "cell_type": "code",
   "execution_count": 17,
   "metadata": {
    "collapsed": false,
    "deletable": true,
    "editable": true
   },
   "outputs": [
    {
     "name": "stdout",
     "output_type": "stream",
     "text": [
      "[[-0.78868866 -0.40912628  0.50449371 -0.22792816 -0.00095367]\n",
      " [-0.28800964 -0.14877319  0.18215179 -0.08296967 -0.00095367]\n",
      " [-0.68664551 -0.35572052  0.43773651 -0.19931793 -0.00095367]\n",
      " [-0.20599365 -0.10681152  0.12969971 -0.06008148 -0.00095367]]\n",
      "[[ 1.00306462  0.99641536  0.99700614  0.99605812  0.19807587]\n",
      " [ 0.99883744  0.99641536  1.00412418  0.99501733  0.07202759]\n",
      " [ 1.00250373  0.99717862  0.99982707  0.99110661  0.17235172]\n",
      " [ 0.9975162   0.99133161  1.00728849  0.98147966  0.05144828]]\n"
     ]
    }
   ],
   "source": [
    "print(grad_w1_diff)\n",
    "print(grad_w1/grad_w1_diff)"
   ]
  },
  {
   "cell_type": "markdown",
   "metadata": {
    "deletable": true,
    "editable": true
   },
   "source": [
    "## Apprentissage d'un réseaux de neurones pour de la classification d'images de chiffres\n",
    "\n",
    "Dans la suite on va utiliser des données plus difficiles à classifier que iris, il s'agit d'images des chiffres de 0 à 9. Exécutez la cellule suivante pour charger les données et afficher un exemplaire:"
   ]
  },
  {
   "cell_type": "code",
   "execution_count": null,
   "metadata": {
    "collapsed": false,
    "deletable": true,
    "editable": true
   },
   "outputs": [],
   "source": [
    "from sklearn.datasets import fetch_mldata\n",
    "mnist = fetch_mldata('mnist-original', data_home='/u/dift3395/sklearn_data')\n",
    "\n",
    "plt.imshow(mnist.data[21455,:].reshape(28, 28), interpolation=\"nearest\", cmap='Greys')"
   ]
  },
  {
   "cell_type": "markdown",
   "metadata": {
    "deletable": true,
    "editable": true
   },
   "source": [
    "On va effectuer la séparation train/valid/set comme d'habitude"
   ]
  },
  {
   "cell_type": "code",
   "execution_count": null,
   "metadata": {
    "collapsed": false,
    "deletable": true,
    "editable": true
   },
   "outputs": [],
   "source": [
    "np.random.seed(0)\n",
    "indices = np.random.permutation(len(mnist['target']))\n",
    "\n",
    "print mnist['data'].shape\n",
    "\n",
    "X_train = mnist['data'][indices][:50000]/255.\n",
    "X_valid = mnist['data'][indices][50000:60000]/255.\n",
    "X_test = mnist['data'][indices][60000:]/255.\n",
    "y_train = mnist['target'][indices][:50000]\n",
    "y_valid = mnist['target'][indices][50000:60000]\n",
    "y_test = mnist['target'][indices][60000:]\n",
    "\n",
    "from keras.utils import np_utils\n",
    "y_train = np_utils.to_categorical(y_train)\n",
    "y_valid = np_utils.to_categorical(y_valid)\n",
    "y_test = np_utils.to_categorical(y_test)\n",
    "\n",
    "print y_train.shape"
   ]
  },
  {
   "cell_type": "markdown",
   "metadata": {
    "deletable": true,
    "editable": true
   },
   "source": [
    "En utilisant l'exemple vu précédemment, c'est maintenant à vous d'implémenter un réseau de neurones pour classifier les données MNIST. \n",
    "\n",
    "Vous pouvez utiliser différentes fonctions d'activation parmi\n",
    " - `Activation('relu')`\n",
    " - `Activation('sigmoid')`\n",
    " - `Activation('tanh')`\n",
    " - `Activation('softmax')`\n",
    " \n",
    "Vous pouvez ajouter de la régularisation sur les poids de cette manière:\n",
    "\n",
    "    from keras.regularizers import l2\n",
    "    model.add(Dense(64, input_dim=64, W_regularizer=l2(0.01)))\n",
    "  \n",
    "Vous pouvez ajouter des couches et modifier leur taille.\n",
    "\n",
    "Vous pouvez également jouer sur la taille des mini-batches et sur le taux d'apprentissage (learning rate).\n",
    "\n",
    "Notez vos meilleurs hyperparamètres, ils pourront vous être utile pour le devoir !"
   ]
  },
  {
   "cell_type": "code",
   "execution_count": null,
   "metadata": {
    "collapsed": false,
    "deletable": true,
    "editable": true
   },
   "outputs": [],
   "source": [
    "from keras.models import Sequential\n",
    "from keras.layers import Dense, Dropout, Activation\n",
    "from keras.optimizers import SGD\n",
    "\n",
    "model = Sequential()\n",
    "model.add(Dense(64, input_dim=28*28, init='uniform'))\n",
    "model.add(Activation('relu'))\n",
    "model.add(Dense(64, init='uniform'))\n",
    "model.add(Activation('relu'))\n",
    "model.add(Dense(10, init='uniform'))\n",
    "model.add(Activation('softmax'))\n",
    "\n",
    "sgd = SGD(lr=0.01)\n",
    "model.compile(loss='categorical_crossentropy',\n",
    "              optimizer=sgd,\n",
    "              metrics=['accuracy'])\n",
    "\n",
    "logs = model.fit(X_train, y_train,\n",
    "          nb_epoch=10,\n",
    "          batch_size=16,\n",
    "          validation_data=(X_valid, y_valid))\n",
    "\n",
    "score = model.evaluate(X_test, y_test, batch_size=16)\n",
    "print '\\nRésultats:'\n",
    "print 'Train: Taux d\\'erreur: %f %%, loss: %f' % ((1-logs.history['acc'][-1])*100, logs.history['loss'][-1])\n",
    "print 'Valid: Taux d\\'erreur: %f %%, loss: %f' % ((1-logs.history['val_acc'][-1])*100, logs.history['val_loss'][-1])\n",
    "print 'Test: Taux d\\'erreur: %f %%, loss: %f' % ((1-score[1])*100, score[0])"
   ]
  }
 ],
 "metadata": {
  "anaconda-cloud": {},
  "kernelspec": {
   "display_name": "Python 3",
   "language": "python",
   "name": "python3"
  },
  "language_info": {
   "codemirror_mode": {
    "name": "ipython",
    "version": 3
   },
   "file_extension": ".py",
   "mimetype": "text/x-python",
   "name": "python",
   "nbconvert_exporter": "python",
   "pygments_lexer": "ipython3",
   "version": "3.5.2"
  },
  "nav_menu": {},
  "toc": {
   "navigate_menu": true,
   "number_sections": true,
   "sideBar": true,
   "threshold": 6,
   "toc_cell": false,
   "toc_section_display": "block",
   "toc_window_display": false
  }
 },
 "nbformat": 4,
 "nbformat_minor": 1
}
