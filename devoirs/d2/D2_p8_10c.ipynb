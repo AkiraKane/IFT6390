{
 "cells": [
  {
   "cell_type": "code",
   "execution_count": 2,
   "metadata": {
    "collapsed": false,
    "deletable": true,
    "editable": true
   },
   "outputs": [
    {
     "name": "stdout",
     "output_type": "stream",
     "text": [
      "Populating the interactive namespace from numpy and matplotlib\n"
     ]
    }
   ],
   "source": [
    "%pylab inline\n",
    "import numpy as np\n",
    "import json\n",
    "\n",
    "import math\n",
    "import gzip, pickle\n",
    "import matplotlib.pyplot as plt\n",
    "\n",
    "from code.mlp import MLP\n",
    "from code.mlp_batch import MLPBatch"
   ]
  },
  {
   "cell_type": "code",
   "execution_count": 3,
   "metadata": {
    "collapsed": false,
    "deletable": true,
    "editable": true
   },
   "outputs": [],
   "source": [
    "import gzip,pickle\n",
    "f=gzip.open('mnist.pkl.gz')\n",
    "data=pickle.load(f, encoding='latin')\n",
    "\n",
    "\"\"\"data[0][0]: matrice de train data\n",
    "data[0][1]: vecteur des train labels\n",
    "\n",
    "data[1][0]: matrice de valid data\n",
    "data[1][0]: vecteur des valid labels\n",
    "\n",
    "data[2][0]: matrice de test data\n",
    "data[2][0]: vecteur des test labels\"\"\"\n",
    "\n",
    "train = np.matrix(data[0][0])\n",
    "valid = np.matrix(data[1][0])\n",
    "test = np.matrix(data[2][0])\n",
    "train_target = np.matrix(data[0][1]).getA1()\n",
    "valid_target = np.matrix(data[1][1]).getA1()\n",
    "test_target = np.matrix(data[2][1]).getA1()"
   ]
  },
  {
   "cell_type": "markdown",
   "metadata": {
    "deletable": true,
    "editable": true
   },
   "source": [
    "## Question 8"
   ]
  },
  {
   "cell_type": "code",
   "execution_count": 45,
   "metadata": {
    "collapsed": false,
    "deletable": true,
    "editable": true
   },
   "outputs": [
    {
     "name": "stdout",
     "output_type": "stream",
     "text": [
      "1 epoch time: ~438.72855099999833 s\n",
      "1 epoch time: ~153.5532060000005 s\n"
     ]
    }
   ],
   "source": [
    "dh = train.shape[1]\n",
    "d = train.shape[1]\n",
    "m = 10\n",
    "k = 100\n",
    "epsilon = 1e-5\n",
    "\n",
    "lamdas = np.matrix([[0.0001, 0.00001],[0.0001, 0.000006]])\n",
    "learning_rate = 0.0019\n",
    "\n",
    "iterations = 500\n",
    "\n",
    "nnet = MLP(d, m, dh, epsilon, show_epoch=True)\n",
    "nnet.train(train, train_target, lamdas, learning_rate , k, iterations=iterations)\n",
    "\n",
    "nnet_batch = MLPBatch(d, m, dh, epsilon, show_epoch=True)\n",
    "nnet_batch.train(train, train_target, lamdas, learning_rate , k, iterations=iterations)"
   ]
  },
  {
   "cell_type": "markdown",
   "metadata": {
    "deletable": true,
    "editable": true
   },
   "source": [
    "## Question 9"
   ]
  },
  {
   "cell_type": "code",
   "execution_count": 46,
   "metadata": {
    "collapsed": false,
    "deletable": true,
    "editable": true
   },
   "outputs": [
    {
     "name": "stdout",
     "output_type": "stream",
     "text": [
      "1 epoch time: ~155.39803499999834 s\n"
     ]
    }
   ],
   "source": [
    "dh = train.shape[1]\n",
    "d = train.shape[1]\n",
    "m = 10\n",
    "k = 100\n",
    "epsilon = 1e-5\n",
    "\n",
    "lamdas = np.matrix([[0.0001, 0.00001],[0.0001, 0.000006]])\n",
    "learning_rate = 0.0019\n",
    "\n",
    "iterations = 500\n",
    "\n",
    "nnet_batch_9 = MLPBatch(d, m, dh, epsilon, show_epoch=True, save_datapoints=True)\n",
    "nnet_batch_9.train(train, train_target, lamdas, learning_rate , k, iterations=iterations, valid=valid, valid_target=valid_target, test=test, test_target=test_target)"
   ]
  },
  {
   "cell_type": "code",
   "execution_count": 49,
   "metadata": {
    "collapsed": false
   },
   "outputs": [
    {
     "name": "stdout",
     "output_type": "stream",
     "text": [
      "{'test_error': [7.22], 'test_loss': [2484.2702359987034], 'train_loss': [12756.748549518099], 'train_error': [7.466], 'valid_loss': [2369.7747106486495], 'valid_error': [6.64]}\n"
     ]
    }
   ],
   "source": [
    "with open('datapoints-question9.json') as data_file:    \n",
    "    data = json.load(data_file)\n",
    "    print(data)"
   ]
  },
  {
   "cell_type": "markdown",
   "metadata": {
    "deletable": true,
    "editable": true
   },
   "source": [
    "## Question 10"
   ]
  },
  {
   "cell_type": "code",
   "execution_count": 41,
   "metadata": {
    "collapsed": false,
    "deletable": true,
    "editable": true
   },
   "outputs": [
    {
     "name": "stdout",
     "output_type": "stream",
     "text": [
      "1 epoch time: ~161.34012600000005 s\n",
      "1 epoch time: ~334.6387370000002 s\n",
      "1 epoch time: ~497.3125279999995 s\n",
      "1 epoch time: ~661.3390129999998 s\n",
      "1 epoch time: ~822.7476930000003 s\n",
      "1 epoch time: ~987.4330990000008 s\n",
      "1 epoch time: ~1155.8247440000005 s\n",
      "1 epoch time: ~1318.7409309999994 s\n",
      "1 epoch time: ~1478.4601510000002 s\n",
      "1 epoch time: ~1638.5431070000004 s\n",
      "1 epoch time: ~1798.3526379999994 s\n",
      "1 epoch time: ~1961.2941680000013 s\n",
      "1 epoch time: ~2123.624277 s\n"
     ]
    }
   ],
   "source": [
    "dh = train.shape[1]\n",
    "d = train.shape[1]\n",
    "m = 10\n",
    "k = 100\n",
    "epsilon = 1e-5\n",
    "\n",
    "lamdas = np.matrix([[0.0001, 0.00001],[0.0001, 0.000006]])\n",
    "learning_rate = 0.005\n",
    "\n",
    "iterations = 6500\n",
    "\n",
    "nnet_batch_10 = MLPBatch(d, m, dh, epsilon, show_epoch=True, save_datapoints=True)\n",
    "nnet_batch_10.train(train, train_target, lamdas, learning_rate , k, iterations=iterations, valid=valid, valid_target=valid_target, test=test, test_target=test_target)"
   ]
  },
  {
   "cell_type": "code",
   "execution_count": 42,
   "metadata": {
    "collapsed": false,
    "deletable": true,
    "editable": true
   },
   "outputs": [
    {
     "data": {
      "image/png": "[encoded data removed]",
      "text/plain": [
       "<matplotlib.figure.Figure at 0x10af351d0>"
      ]
     },
     "metadata": {},
     "output_type": "display_data"
    },
    {
     "data": {
      "image/png": "[encoded data removed]",
      "text/plain": [
       "<matplotlib.figure.Figure at 0x10add1668>"
      ]
     },
     "metadata": {},
     "output_type": "display_data"
    }
   ],
   "source": [
    "with open('datapoints-question10.json') as data_file:    \n",
    "    data = json.load(data_file)\n",
    "    \n",
    "    train_errors = data['train_error']\n",
    "    train_losses = data['train_loss']\n",
    "    \n",
    "    valid_errors = data['valid_error']\n",
    "    valid_losses = data['valid_loss']\n",
    "    \n",
    "    test_errors = data['test_error']\n",
    "    test_losses = data['test_loss']\n",
    "    \n",
    "    plt.plot(train_errors, label='train error rate')\n",
    "    plt.plot(valid_errors, label='valid error rate')\n",
    "    plt.plot(test_errors, label='test error rate')\n",
    "    plt.legend()\n",
    "    plt.title('Taux d\\'erreurs')\n",
    "    plt.show()\n",
    "    \n",
    "    plt.plot(train_losses, label='train loss')\n",
    "    plt.plot(valid_losses, label='valid loss')\n",
    "    plt.plot(test_losses, label='test loss')\n",
    "    plt.legend()\n",
    "    plt.title('Fonction du coût')\n",
    "    plt.show()\n",
    "    "
   ]
  }
 ],
 "metadata": {
  "anaconda-cloud": {},
  "kernelspec": {
   "display_name": "Python 3",
   "language": "python",
   "name": "python3"
  },
  "language_info": {
   "codemirror_mode": {
    "name": "ipython",
    "version": 3
   },
   "file_extension": ".py",
   "mimetype": "text/x-python",
   "name": "python",
   "nbconvert_exporter": "python",
   "pygments_lexer": "ipython3",
   "version": "3.5.2"
  }
 },
 "nbformat": 4,
 "nbformat_minor": 1
}
