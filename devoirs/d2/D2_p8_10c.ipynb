{
 "cells": [
  {
   "cell_type": "code",
   "execution_count": 1,
   "metadata": {
    "collapsed": false,
    "deletable": true,
    "editable": true
   },
   "outputs": [
    {
     "name": "stdout",
     "output_type": "stream",
     "text": [
      "Populating the interactive namespace from numpy and matplotlib\n"
     ]
    }
   ],
   "source": [
    "%pylab inline\n",
    "import numpy as np\n",
    "\n",
    "import math\n",
    "import gzip, pickle\n",
    "import matplotlib.pyplot as plt\n",
    "\n",
    "from code.mlp import MLP\n",
    "from code.mlp_batch import MLPBatch"
   ]
  },
  {
   "cell_type": "code",
   "execution_count": 2,
   "metadata": {
    "collapsed": false,
    "deletable": true,
    "editable": true
   },
   "outputs": [],
   "source": [
    "import gzip,pickle\n",
    "f=gzip.open('mnist.pkl.gz')\n",
    "data=pickle.load(f, encoding='latin')\n",
    "\n",
    "\"\"\"data[0][0]: matrice de train data\n",
    "data[0][1]: vecteur des train labels\n",
    "\n",
    "data[1][0]: matrice de valid data\n",
    "data[1][0]: vecteur des valid labels\n",
    "\n",
    "data[2][0]: matrice de test data\n",
    "data[2][0]: vecteur des test labels\"\"\"\n",
    "\n",
    "train = np.matrix(data[0][0])\n",
    "valid = np.matrix(data[1][0])\n",
    "test = np.matrix(data[2][0])\n",
    "train_target = np.matrix(data[0][1]).getA1()\n",
    "valid_target = np.matrix(data[1][1]).getA1()\n",
    "test_target = np.matrix(data[2][1]).getA1()"
   ]
  },
  {
   "cell_type": "markdown",
   "metadata": {},
   "source": [
    "## Question 8"
   ]
  },
  {
   "cell_type": "code",
   "execution_count": 3,
   "metadata": {
    "collapsed": false
   },
   "outputs": [
    {
     "name": "stdout",
     "output_type": "stream",
     "text": [
      "1 epoch time: ~414.623421 s\n",
      "1 epoch time: ~150.64766200000003 s\n"
     ]
    }
   ],
   "source": [
    "dh = train.shape[1]\n",
    "d = train.shape[1]\n",
    "m = 10\n",
    "k = 100\n",
    "epsilon = 1e-5\n",
    "\n",
    "lamdas = np.matrix([[0.0001, 0.00001],[0.0001, 0.000006]])\n",
    "learning_rate = 0.0019\n",
    "\n",
    "iterations = 500\n",
    "\n",
    "nnet = MLP(d, m, dh, epsilon, show_epoch=True)\n",
    "nnet.train(train, train_target, lamdas, learning_rate , k, iterations=iterations)\n",
    "\n",
    "nnet_batch = MLPBatch(d, m, dh, epsilon, show_epoch=True)\n",
    "nnet_batch.train(train, train_target, lamdas, learning_rate , k, iterations=iterations)"
   ]
  },
  {
   "cell_type": "markdown",
   "metadata": {},
   "source": [
    "## Question 9"
   ]
  },
  {
   "cell_type": "code",
   "execution_count": null,
   "metadata": {
    "collapsed": true
   },
   "outputs": [],
   "source": []
  }
 ],
 "metadata": {
  "anaconda-cloud": {},
  "kernelspec": {
   "display_name": "Python 3",
   "language": "python",
   "name": "python3"
  },
  "language_info": {
   "codemirror_mode": {
    "name": "ipython",
    "version": 3
   },
   "file_extension": ".py",
   "mimetype": "text/x-python",
   "name": "python",
   "nbconvert_exporter": "python",
   "pygments_lexer": "ipython3",
   "version": "3.5.2"
  }
 },
 "nbformat": 4,
 "nbformat_minor": 1
}
