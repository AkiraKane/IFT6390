{
 "cells": [
  {
   "cell_type": "code",
   "execution_count": 1,
   "metadata": {
    "collapsed": false,
    "deletable": true,
    "editable": true
   },
   "outputs": [
    {
     "name": "stdout",
     "output_type": "stream",
     "text": [
      "Populating the interactive namespace from numpy and matplotlib\n"
     ]
    }
   ],
   "source": [
    "%pylab inline\n",
    "import numpy as np\n",
    "import json\n",
    "\n",
    "import math\n",
    "import gzip, pickle\n",
    "import matplotlib.pyplot as plt\n",
    "\n",
    "from code.mlp import MLP\n",
    "from code.mlp_batch import MLPBatch"
   ]
  },
  {
   "cell_type": "code",
   "execution_count": 2,
   "metadata": {
    "collapsed": false,
    "deletable": true,
    "editable": true
   },
   "outputs": [],
   "source": [
    "import gzip,pickle\n",
    "f=gzip.open('mnist.pkl.gz')\n",
    "data=pickle.load(f, encoding='latin')\n",
    "\n",
    "\"\"\"data[0][0]: matrice de train data\n",
    "data[0][1]: vecteur des train labels\n",
    "\n",
    "data[1][0]: matrice de valid data\n",
    "data[1][0]: vecteur des valid labels\n",
    "\n",
    "data[2][0]: matrice de test data\n",
    "data[2][0]: vecteur des test labels\"\"\"\n",
    "\n",
    "train = np.matrix(data[0][0])\n",
    "valid = np.matrix(data[1][0])\n",
    "test = np.matrix(data[2][0])\n",
    "train_target = np.matrix(data[0][1]).getA1()\n",
    "valid_target = np.matrix(data[1][1]).getA1()\n",
    "test_target = np.matrix(data[2][1]).getA1()"
   ]
  },
  {
   "cell_type": "markdown",
   "metadata": {},
   "source": [
    "## Question 8"
   ]
  },
  {
   "cell_type": "code",
   "execution_count": 3,
   "metadata": {
    "collapsed": false
   },
   "outputs": [
    {
     "name": "stdout",
     "output_type": "stream",
     "text": [
      "1 epoch time: ~418.83867399999997 s\n",
      "1 epoch time: ~154.24682200000007 s\n"
     ]
    }
   ],
   "source": [
    "dh = train.shape[1]\n",
    "d = train.shape[1]\n",
    "m = 10\n",
    "k = 100\n",
    "epsilon = 1e-5\n",
    "\n",
    "lamdas = np.matrix([[0.0001, 0.00001],[0.0001, 0.000006]])\n",
    "learning_rate = 0.0019\n",
    "\n",
    "iterations = 500\n",
    "\n",
    "nnet = MLP(d, m, dh, epsilon, show_epoch=True)\n",
    "nnet.train(train, train_target, lamdas, learning_rate , k, iterations=iterations)\n",
    "\n",
    "nnet_batch = MLPBatch(d, m, dh, epsilon, show_epoch=True)\n",
    "nnet_batch.train(train, train_target, lamdas, learning_rate , k, iterations=iterations)"
   ]
  },
  {
   "cell_type": "markdown",
   "metadata": {},
   "source": [
    "## Question 9"
   ]
  },
  {
   "cell_type": "code",
   "execution_count": 4,
   "metadata": {
    "collapsed": false
   },
   "outputs": [
    {
     "name": "stdout",
     "output_type": "stream",
     "text": [
      "1 epoch time: ~152.569295 s\n"
     ]
    }
   ],
   "source": [
    "dh = train.shape[1]\n",
    "d = train.shape[1]\n",
    "m = 10\n",
    "k = 100\n",
    "epsilon = 1e-5\n",
    "\n",
    "lamdas = np.matrix([[0.0001, 0.00001],[0.0001, 0.000006]])\n",
    "learning_rate = 0.0019\n",
    "\n",
    "iterations = 500\n",
    "\n",
    "nnet_batch_9 = MLPBatch(d, m, dh, epsilon, show_epoch=True, save_datapoints=True)\n",
    "nnet_batch_9.train(train, train_target, lamdas, learning_rate , k, iterations=iterations, valid=valid, valid_target=valid_target, test=test, test_target=test_target)"
   ]
  },
  {
   "cell_type": "markdown",
   "metadata": {},
   "source": [
    "## Question 10"
   ]
  },
  {
   "cell_type": "code",
   "execution_count": 5,
   "metadata": {
    "collapsed": false
   },
   "outputs": [
    {
     "name": "stdout",
     "output_type": "stream",
     "text": [
      "1 epoch time: ~149.6033440000001 s\n",
      "1 epoch time: ~309.95422500000006 s\n",
      "1 epoch time: ~475.40998 s\n",
      "1 epoch time: ~641.9719840000001 s\n",
      "1 epoch time: ~806.026459 s\n",
      "1 epoch time: ~971.7885580000001 s\n",
      "1 epoch time: ~1138.2775430000002 s\n",
      "1 epoch time: ~1303.577249 s\n",
      "1 epoch time: ~1473.383362 s\n",
      "1 epoch time: ~1643.0719350000004 s\n",
      "1 epoch time: ~1804.9996960000003 s\n",
      "1 epoch time: ~1972.1935690000005 s\n",
      "1 epoch time: ~2138.8523450000002 s\n",
      "1 epoch time: ~2303.9774270000003 s\n",
      "1 epoch time: ~2465.1166040000003 s\n"
     ]
    }
   ],
   "source": [
    "dh = train.shape[1]\n",
    "d = train.shape[1]\n",
    "m = 10\n",
    "k = 100\n",
    "epsilon = 1e-5\n",
    "\n",
    "lamdas = np.matrix([[0.0001, 0.00001],[0.0001, 0.000006]])\n",
    "learning_rate = 0.0019\n",
    "\n",
    "iterations = 7500\n",
    "\n",
    "nnet_batch_10 = MLPBatch(d, m, dh, epsilon, show_epoch=True, save_datapoints=True)\n",
    "nnet_batch_10.train(train, train_target, lamdas, learning_rate , k, iterations=iterations, valid=valid, valid_target=valid_target, test=test, test_target=test_target)"
   ]
  },
  {
   "cell_type": "code",
   "execution_count": 6,
   "metadata": {
    "collapsed": false
   },
   "outputs": [
    {
     "data": {
      "image/png": "[encoded data removed]",
      "text/plain": [
       "<matplotlib.figure.Figure at 0x10ac20438>"
      ]
     },
     "metadata": {},
     "output_type": "display_data"
    },
    {
     "data": {
      "image/png": "[encoded data removed]",
      "text/plain": [
       "<matplotlib.figure.Figure at 0x10a92ff28>"
      ]
     },
     "metadata": {},
     "output_type": "display_data"
    }
   ],
   "source": [
    "with open('datapoints.json') as data_file:    \n",
    "    data = json.load(data_file)\n",
    "    \n",
    "    train_errors = data['train_error']\n",
    "    train_losses = data['train_loss']\n",
    "    \n",
    "    valid_errors = data['valid_error']\n",
    "    valid_losses = data['valid_loss']\n",
    "    \n",
    "    test_errors = data['test_error']\n",
    "    test_losses = data['test_loss']\n",
    "    \n",
    "    plt.plot(train_errors, label='train error rate')\n",
    "    plt.plot(valid_errors, label='valid error rate')\n",
    "    plt.plot(test_errors, label='test error rate')\n",
    "    plt.legend()\n",
    "    plt.title('Taux d\\'erreurs')\n",
    "    plt.show()\n",
    "    \n",
    "    plt.plot(train_losses, label='train loss')\n",
    "    plt.plot(valid_losses, label='valid loss')\n",
    "    plt.plot(test_losses, label='test loss')\n",
    "    plt.legend()\n",
    "    plt.title('Fonction du coût')\n",
    "    plt.show()\n",
    "    "
   ]
  },
  {
   "cell_type": "code",
   "execution_count": null,
   "metadata": {
    "collapsed": true
   },
   "outputs": [],
   "source": []
  }
 ],
 "metadata": {
  "anaconda-cloud": {},
  "kernelspec": {
   "display_name": "Python 3",
   "language": "python",
   "name": "python3"
  },
  "language_info": {
   "codemirror_mode": {
    "name": "ipython",
    "version": 3
   },
   "file_extension": ".py",
   "mimetype": "text/x-python",
   "name": "python",
   "nbconvert_exporter": "python",
   "pygments_lexer": "ipython3",
   "version": "3.5.2"
  }
 },
 "nbformat": 4,
 "nbformat_minor": 1
}
