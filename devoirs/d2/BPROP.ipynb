{
 "cells": [
  {
   "cell_type": "code",
   "execution_count": 6,
   "metadata": {
    "collapsed": false,
    "deletable": true,
    "editable": true
   },
   "outputs": [],
   "source": [
    "def bprop(fprop, W1, W2, b1, b2, x, y, m):\n",
    "    y = y.astype(int)\n",
    "    grad_oa = fprop['os'] - np.eye(m)[y.getA1()]\n",
    "\n",
    "    grad_b2 = np.sum(grad_oa, axis=0)\n",
    "    #devrait être grad_w2 = np.dot(grad_oa,np.transpose(fprop['hs']))\n",
    "    #grad_w2 = np.dot(np.transpose(grad_oa), fprop['hs']) #original eq de Mahmoud\n",
    "    grad_w2 = np.transpose(np.dot(np.transpose(fprop['hs']),grad_oa))#doit ajouter np.transpose sur toute l'éq\n",
    "    #devrait être grad_hs = np.dot(np.transpose(W2),grad_oa) MAIS NE FONCTIONNE PAS\n",
    "    grad_hs = np.dot(grad_oa, W2) #original eq de Mahmoud\n",
    "    #devrait être grad_ha = np.where(fprop['ha'])>=0,grad_hs,np.zeros(fprop['ha'].shape))\n",
    "    #grad_ha = np.where(np.sign(fprop['ha'])+1,grad_hs,np.zeros(fprop['ha'].shape)) #original eq de Mahmoud\n",
    "    grad_ha = np.where(fprop['ha']>=0,grad_hs,np.zeros(fprop['ha'].shape))\n",
    "    grad_b1 = np.average(grad_ha, axis=0)\n",
    "    #devrait être grad_w1 = np.dot(grad_ha,np.transpose(x))\n",
    "    #grad_w1 = np.dot(np.transpose(grad_ha),x) / x.shape[0] #original eq de Mahmoud\n",
    "    grad_w1 = np.transpose(np.dot(np.transpose(x),grad_ha))#doit ajouter np.transpose sur toute l'éq\n",
    "    return {\n",
    "        'grad_w1': grad_w1,\n",
    "        'grad_b1': grad_b1,\n",
    "        'grad_ha': grad_ha,\n",
    "        'grad_hs': grad_hs,\n",
    "        'grad_w2': grad_w2,\n",
    "        'grad_b2': grad_b2,\n",
    "        'grad_oa': grad_oa\n",
    "    }"
   ]
  },
  {
   "cell_type": "code",
   "execution_count": null,
   "metadata": {
    "collapsed": true,
    "deletable": true,
    "editable": true
   },
   "outputs": [],
   "source": []
  }
 ],
 "metadata": {
  "anaconda-cloud": {},
  "kernelspec": {
   "display_name": "Python 3",
   "language": "python",
   "name": "python3"
  },
  "language_info": {
   "codemirror_mode": {
    "name": "ipython",
    "version": 3
   },
   "file_extension": ".py",
   "mimetype": "text/x-python",
   "name": "python",
   "nbconvert_exporter": "python",
   "pygments_lexer": "ipython3",
   "version": "3.5.2"
  }
 },
 "nbformat": 4,
 "nbformat_minor": 1
}
