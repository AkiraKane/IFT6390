{
 "cells": [
  {
   "cell_type": "code",
   "execution_count": 1,
   "metadata": {
    "collapsed": false,
    "deletable": true,
    "editable": true
   },
   "outputs": [
    {
     "name": "stdout",
     "output_type": "stream",
     "text": [
      "Populating the interactive namespace from numpy and matplotlib\n"
     ]
    }
   ],
   "source": [
    "%pylab inline\n",
    "import numpy as np\n",
    "import math\n",
    "\n",
    "import gzip, pickle\n",
    "\n",
    "import matplotlib.pyplot as plt"
   ]
  },
  {
   "cell_type": "code",
   "execution_count": 2,
   "metadata": {
    "collapsed": true
   },
   "outputs": [],
   "source": [
    "np.random.seed(1234)"
   ]
  },
  {
   "cell_type": "code",
   "execution_count": 3,
   "metadata": {
    "collapsed": true
   },
   "outputs": [],
   "source": [
    "from code.mlp import MLP\n",
    "from code.mlp_batch import MLPBatch"
   ]
  },
  {
   "cell_type": "markdown",
   "metadata": {
    "deletable": true,
    "editable": true
   },
   "source": [
    "## Question 8"
   ]
  },
  {
   "cell_type": "code",
   "execution_count": null,
   "metadata": {
    "collapsed": false,
    "deletable": true,
    "editable": true
   },
   "outputs": [],
   "source": [
    "import gzip,pickle\n",
    "f=gzip.open('mnist.pkl.gz')\n",
    "dataMNIST=pickle.load(f, encoding='latin')\n",
    "\n",
    "\"\"\"data[0][0]: matrice de train data\n",
    "data[0][1]: vecteur des train labels\n",
    "\n",
    "data[1][0]: matrice de valid data\n",
    "data[1][0]: vecteur des valid labels\n",
    "\n",
    "data[2][0]: matrice de test data\n",
    "data[2][0]: vecteur des test labels\"\"\"\n",
    "\n",
    "#print 'dataMNIST[0][0].shape = ',dataMNIST[0][0].shape #(50000, 784)\n",
    "#print 'dataMNIST[0][1].shape = ',dataMNIST[0][1].shape #(50000,)\n",
    "#print 'dataMNIST[1][0].shape = ',dataMNIST[1][0].shape #(10000, 784)\n",
    "#print 'dataMNIST[1][1].shape = ',dataMNIST[1][1].shape #(10000,)\n",
    "#print 'dataMNIST[2][0].shape = ',dataMNIST[2][0].shape #(10000, 784)\n",
    "#print 'dataMNIST[2][1].shape = ',dataMNIST[2][1].shape #(10000,)\n",
    "\n",
    "MNIST_xtrain = np.matrix(dataMNIST[0][0])\n",
    "MNIST_xvalid = np.matrix(dataMNIST[1][0])\n",
    "MNIST_xtest = np.matrix(dataMNIST[2][0])\n",
    "MNIST_ytrain = np.array(dataMNIST[0][1])\n",
    "MNIST_yvalid = np.array(dataMNIST[1][1])\n",
    "MNIST_ytest = np.array(dataMNIST[2][1])"
   ]
  },
  {
   "cell_type": "code",
   "execution_count": null,
   "metadata": {
    "collapsed": false,
    "deletable": true,
    "editable": true
   },
   "outputs": [
    {
     "name": "stderr",
     "output_type": "stream",
     "text": [
      "/Users/mabounassif/Documents/IFT6390/devoirs/d2/code/mlp_helpers.py:20: RuntimeWarning: divide by zero encountered in log\n",
      "  loss = -1 * np.log(os[np.transpose(y), 0])\n",
      "/Users/mabounassif/Documents/IFT6390/devoirs/d2/code/mlp.py:104: RuntimeWarning: overflow encountered in square\n",
      "  lamdas[1, 0] * self.W2.sum() + \\\n",
      "/Users/mabounassif/Documents/IFT6390/devoirs/d2/code/mlp.py:105: RuntimeWarning: overflow encountered in square\n",
      "  lamdas[1, 1] * np.square(self.W2).sum()\n",
      "/Users/mabounassif/Documents/IFT6390/devoirs/d2/code/mlp_helpers.py:43: RuntimeWarning: invalid value encountered in greater_equal\n",
      "  grad_ha = np.where(fprop['ha'] >= 0, grad_hs, np.zeros(fprop['ha'].shape))\n",
      "/Users/mabounassif/Documents/IFT6390/devoirs/d2/code/mlp.py:104: RuntimeWarning: invalid value encountered in double_scalars\n",
      "  lamdas[1, 0] * self.W2.sum() + \\\n"
     ]
    }
   ],
   "source": [
    "dh = 784\n",
    "d = 784\n",
    "m = 10\n",
    "k = 100\n",
    "epsilon = 1e-5\n",
    "iterations = 5000\n",
    "\n",
    "lamdas = np.matrix([[0.001, 0.0001],[0.001, 0.00006]])\n",
    "\n",
    "learning_rate = 0.019\n",
    "\n",
    "data = np.matrix(np.column_stack((MNIST_xtrain, MNIST_ytrain)))\n",
    "\n",
    "train = data[:, :-1]\n",
    "target = data[:, -1].getA1()\n",
    "\n",
    "\n",
    "nnet = MLP(d, m, dh, epsilon, show_epoch=True)\n",
    "nnet.train(train, target, lamdas, learning_rate , k, iterations=iterations)"
   ]
  },
  {
   "cell_type": "code",
   "execution_count": null,
   "metadata": {
    "collapsed": true
   },
   "outputs": [],
   "source": []
  }
 ],
 "metadata": {
  "anaconda-cloud": {},
  "kernelspec": {
   "display_name": "Python 3",
   "language": "python",
   "name": "python3"
  },
  "language_info": {
   "codemirror_mode": {
    "name": "ipython",
    "version": 3
   },
   "file_extension": ".py",
   "mimetype": "text/x-python",
   "name": "python",
   "nbconvert_exporter": "python",
   "pygments_lexer": "ipython3",
   "version": "3.5.2"
  }
 },
 "nbformat": 4,
 "nbformat_minor": 1
}
