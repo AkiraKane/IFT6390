{
 "cells": [
  {
   "cell_type": "markdown",
   "metadata": {},
   "source": [
    "# IFT3395/6390: Devoir 1\n",
    "\n",
    "Mahmoud Abou-Nassif C2840\n",
    "\n",
    "Jean Archambault\n",
    "\n",
    "---\n",
    "\n",
    "## 1 Petit exercice de probabilités\n",
    "\n",
    "On modélise le problème de la façon suivante:\n",
    "\n",
    "$$ X_1 \\in \\{P, N\\} \\quad et \\quad X_2 \\in \\{C, B\\}$$\n",
    "\n",
    "Où  \n",
    "\n",
    "\n",
    "$P$ : Test positif  \n",
    "$N$ : Test negatif  \n",
    "$C$ : Cancer  \n",
    "$B$ : Benin  \n",
    "\n",
    "D'après l'énoncé, on a déja les egalités suivantes:\n",
    "\n",
    "- $ P(X_2=C)=0.01 $  \n",
    "- $ P(X_1=P| X_2=C)=0.8 $\n",
    "- $ P(X_1=P| X_2=B)=0.096 $  \n",
    "\n",
    "La question consiste à trouver la probabilité suivante: \n",
    "\n",
    "$$ P(X_2=C|X_1=P)$$\n",
    "\n",
    "On peut déduire la probabilité de l'absence d'un cancer du sein chez les femmes dans la quarantaine participant à un test de routine:    \n",
    "\n",
    "$$ P(X_2=B) = 1 - P(X_2=C) = 0.99 $$\n",
    "\n",
    "D'après la règle de Bayes on a:\n",
    "\n",
    "$$ \n",
    "\\begin{align}\n",
    "P(X_2=C|X_1=P) & = \\frac{P(X_1=P|X_2=C)P(X_2=C)}{P(X_1=P)} \\\\   \n",
    "& = \\frac{P(X_1=P|X_2=C)P(X_2=C)}{P(X_1=P|X_2=C)P(X_2=C) + P(X_1=P|X_2=B)P(X_2=B)}\\approx 7.76\\% \n",
    "\\end{align} \n",
    "$$\n",
    "\n",
    "\n",
    "On déduit que la réponse des médecins est incorrecte. La probabilité est moins de 10% donc réponse $F)$"
   ]
  },
  {
   "cell_type": "markdown",
   "metadata": {},
   "source": [
    "## 3 Partie pratique: estimation de densité"
   ]
  }
 ],
 "metadata": {
  "anaconda-cloud": {},
  "kernelspec": {
   "display_name": "Python 3",
   "language": "python",
   "name": "python3"
  },
  "language_info": {
   "codemirror_mode": {
    "name": "ipython",
    "version": 3
   },
   "file_extension": ".py",
   "mimetype": "text/x-python",
   "name": "python",
   "nbconvert_exporter": "python",
   "pygments_lexer": "ipython3",
   "version": "3.5.2"
  }
 },
 "nbformat": 4,
 "nbformat_minor": 1
}
