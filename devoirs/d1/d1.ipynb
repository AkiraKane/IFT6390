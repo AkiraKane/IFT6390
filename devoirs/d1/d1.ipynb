{
 "cells": [
  {
   "cell_type": "markdown",
   "metadata": {
    "deletable": true,
    "editable": true
   },
   "source": [
    "# IFT3395/6390: Devoir 1\n",
    "\n",
    "Mahmoud Abou-Nassif C2840\n",
    "\n",
    "Jean Archambault\n",
    "\n",
    "---\n",
    "\n",
    "## 1 Petit exercice de probabilités\n",
    "\n",
    "On modélise le problème de la façon suivante:\n",
    "\n",
    "$$ X_1 \\in \\{P, N\\} \\quad et \\quad X_2 \\in \\{C, B\\}$$\n",
    "\n",
    "Où  \n",
    "\n",
    "\n",
    "$P$ : Test positif  \n",
    "$N$ : Test negatif  \n",
    "$C$ : Cancer  \n",
    "$B$ : Benin  \n",
    "\n",
    "D'après l'énoncé, on a déja les egalités suivantes:\n",
    "\n",
    "- $ P(X_2=C)=0.01 $  \n",
    "- $ P(X_1=P| X_2=C)=0.8 $\n",
    "- $ P(X_1=P| X_2=B)=0.096 $  \n",
    "\n",
    "La question consiste à trouver la probabilité suivante: \n",
    "\n",
    "$$ P(X_2=C|X_1=P)$$\n",
    "\n",
    "On peut déduire la probabilité de l'absence d'un cancer du sein chez les femmes dans la quarantaine participant à un test de routine:    \n",
    "\n",
    "$$ P(X_2=B) = 1 - P(X_2=C) = 0.99 $$\n",
    "\n",
    "D'après la règle de Bayes on a:\n",
    "\n",
    "$$ \n",
    "\\begin{align}\n",
    "P(X_2=C|X_1=P) & = \\frac{P(X_1=P|X_2=C)P(X_2=C)}{P(X_1=P)} \\\\   \n",
    "& = \\frac{P(X_1=P|X_2=C)P(X_2=C)}{P(X_1=P|X_2=C)P(X_2=C) + P(X_1=P|X_2=B)P(X_2=B)}\\approx 7.76\\% \n",
    "\\end{align} \n",
    "$$\n",
    "\n",
    "\n",
    "On déduit que la réponse des médecins est incorrecte. La probabilité est moins de 10% donc réponse $F)$"
   ]
  },
  {
   "cell_type": "markdown",
   "metadata": {
    "deletable": true,
    "editable": true
   },
   "source": [
    "## 3 Partie pratique: estimation de densité\n"
   ]
  },
  {
   "cell_type": "code",
   "execution_count": 84,
   "metadata": {
    "collapsed": true,
    "deletable": true,
    "editable": true
   },
   "outputs": [],
   "source": [
    "import numpy as np\n",
    "\n",
    "import matplotlib.pyplot as plt"
   ]
  },
  {
   "cell_type": "markdown",
   "metadata": {
    "deletable": true,
    "editable": true
   },
   "source": [
    "**Partie 1:** Estimateur de densité paramétrique Gaussien diagonal `gauss_mv`"
   ]
  },
  {
   "cell_type": "code",
   "execution_count": 85,
   "metadata": {
    "collapsed": true,
    "deletable": true,
    "editable": true
   },
   "outputs": [],
   "source": [
    "class gauss:\n",
    "    \n",
    "    def __init__(self,n_dims):\n",
    "        self.n_dims = n_dims\n",
    "        \n",
    "    def train(self, train_data):\n",
    "        self.mu = np.mean(train_data, axis=0)\n",
    "        self.sigma_sq = np.sum((train_data - self.mu) ** 2.0, axis = 0) / train_data.shape[0] \n",
    "    \n",
    "    def compute_predictions(self, test_data):\n",
    "        c = -self.n_dims * np.log(2*np.pi)/2.0 - np.log(np.prod(self.sigma_sq))/2.0\n",
    "        return c - np.sum((test_data -  self.mu)**2.0/ (2.0 * self.sigma_sq),axis=1)"
   ]
  },
  {
   "cell_type": "markdown",
   "metadata": {
    "deletable": true,
    "editable": true
   },
   "source": [
    "**Partie 2:** Un estimateur de densité Parzen à noyau isotropique `parzen`"
   ]
  },
  {
   "cell_type": "code",
   "execution_count": 90,
   "metadata": {
    "collapsed": false,
    "deletable": true,
    "editable": true
   },
   "outputs": [],
   "source": [
    "class parzen:\n",
    "    \n",
    "    def __init__(self, n_dims, sigma=1):\n",
    "        self.sigma = sigma\n",
    "        self.n_dims = n_dims\n",
    "        \n",
    "        self.c = 1/((2*np.pi)**(self.n_dims/2))*(sigma**self.n_dims)\n",
    "    \n",
    "    def train(self, train_data):\n",
    "        self.train_data = train_data\n",
    "    \n",
    "    def compute_predictions(self, test_data):\n",
    "        log_probs = np.ones((1,test_data.shape[0]))\n",
    "        for (i,ex) in enumerate(test_data):\n",
    "            log_probs[i] = np.log(np.sum(self.c*np.exp((-0.5*np.sum((self.train_data - ex)**2, axis=0))/(self.sigma**2)))/self.train_data.shape[0])\n",
    "        \n",
    "        return log_probs"
   ]
  },
  {
   "cell_type": "markdown",
   "metadata": {
    "deletable": true,
    "editable": true
   },
   "source": [
    "**Partie 3:** Densités 1D"
   ]
  },
  {
   "cell_type": "code",
   "execution_count": 92,
   "metadata": {
    "collapsed": false,
    "deletable": true,
    "editable": true
   },
   "outputs": [
    {
     "ename": "IndexError",
     "evalue": "index 1 is out of bounds for axis 0 with size 1",
     "output_type": "error",
     "traceback": [
      "\u001b[0;31m---------------------------------------------------------------------------\u001b[0m",
      "\u001b[0;31mIndexError\u001b[0m                                Traceback (most recent call last)",
      "\u001b[0;32m<ipython-input-92-50244042a7e2>\u001b[0m in \u001b[0;36m<module>\u001b[0;34m()\u001b[0m\n\u001b[1;32m      7\u001b[0m \u001b[0;34m\u001b[0m\u001b[0m\n\u001b[1;32m      8\u001b[0m \u001b[0mparzen_model\u001b[0m\u001b[0;34m.\u001b[0m\u001b[0mtrain\u001b[0m\u001b[0;34m(\u001b[0m\u001b[0miris_train1\u001b[0m\u001b[0;34m)\u001b[0m\u001b[0;34m\u001b[0m\u001b[0m\n\u001b[0;32m----> 9\u001b[0;31m \u001b[0mlog_probs\u001b[0m \u001b[0;34m=\u001b[0m \u001b[0mparzen_model\u001b[0m\u001b[0;34m.\u001b[0m\u001b[0mcompute_predictions\u001b[0m\u001b[0;34m(\u001b[0m\u001b[0miris\u001b[0m\u001b[0;34m)\u001b[0m\u001b[0;34m\u001b[0m\u001b[0m\n\u001b[0m\u001b[1;32m     10\u001b[0m \u001b[0;34m\u001b[0m\u001b[0m\n\u001b[1;32m     11\u001b[0m \u001b[0mplt\u001b[0m\u001b[0;34m.\u001b[0m\u001b[0mscatter\u001b[0m\u001b[0;34m(\u001b[0m\u001b[0miris_train1\u001b[0m\u001b[0;34m)\u001b[0m\u001b[0;34m\u001b[0m\u001b[0m\n",
      "\u001b[0;32m<ipython-input-90-497cd4613aeb>\u001b[0m in \u001b[0;36mcompute_predictions\u001b[0;34m(self, test_data)\u001b[0m\n\u001b[1;32m     13\u001b[0m         \u001b[0mlog_probs\u001b[0m \u001b[0;34m=\u001b[0m \u001b[0mnp\u001b[0m\u001b[0;34m.\u001b[0m\u001b[0mones\u001b[0m\u001b[0;34m(\u001b[0m\u001b[0;34m(\u001b[0m\u001b[0;36m1\u001b[0m\u001b[0;34m,\u001b[0m\u001b[0mtest_data\u001b[0m\u001b[0;34m.\u001b[0m\u001b[0mshape\u001b[0m\u001b[0;34m[\u001b[0m\u001b[0;36m0\u001b[0m\u001b[0;34m]\u001b[0m\u001b[0;34m)\u001b[0m\u001b[0;34m)\u001b[0m\u001b[0;34m\u001b[0m\u001b[0m\n\u001b[1;32m     14\u001b[0m         \u001b[0;32mfor\u001b[0m \u001b[0;34m(\u001b[0m\u001b[0mi\u001b[0m\u001b[0;34m,\u001b[0m\u001b[0mex\u001b[0m\u001b[0;34m)\u001b[0m \u001b[0;32min\u001b[0m \u001b[0menumerate\u001b[0m\u001b[0;34m(\u001b[0m\u001b[0mtest_data\u001b[0m\u001b[0;34m)\u001b[0m\u001b[0;34m:\u001b[0m\u001b[0;34m\u001b[0m\u001b[0m\n\u001b[0;32m---> 15\u001b[0;31m             \u001b[0mlog_probs\u001b[0m\u001b[0;34m[\u001b[0m\u001b[0mi\u001b[0m\u001b[0;34m]\u001b[0m \u001b[0;34m=\u001b[0m \u001b[0mnp\u001b[0m\u001b[0;34m.\u001b[0m\u001b[0mlog\u001b[0m\u001b[0;34m(\u001b[0m\u001b[0mnp\u001b[0m\u001b[0;34m.\u001b[0m\u001b[0msum\u001b[0m\u001b[0;34m(\u001b[0m\u001b[0mself\u001b[0m\u001b[0;34m.\u001b[0m\u001b[0mc\u001b[0m\u001b[0;34m*\u001b[0m\u001b[0mnp\u001b[0m\u001b[0;34m.\u001b[0m\u001b[0mexp\u001b[0m\u001b[0;34m(\u001b[0m\u001b[0;34m(\u001b[0m\u001b[0;34m-\u001b[0m\u001b[0;36m0.5\u001b[0m\u001b[0;34m*\u001b[0m\u001b[0mnp\u001b[0m\u001b[0;34m.\u001b[0m\u001b[0msum\u001b[0m\u001b[0;34m(\u001b[0m\u001b[0;34m(\u001b[0m\u001b[0mself\u001b[0m\u001b[0;34m.\u001b[0m\u001b[0mtrain_data\u001b[0m \u001b[0;34m-\u001b[0m \u001b[0mex\u001b[0m\u001b[0;34m)\u001b[0m\u001b[0;34m**\u001b[0m\u001b[0;36m2\u001b[0m\u001b[0;34m,\u001b[0m \u001b[0maxis\u001b[0m\u001b[0;34m=\u001b[0m\u001b[0;36m0\u001b[0m\u001b[0;34m)\u001b[0m\u001b[0;34m)\u001b[0m\u001b[0;34m/\u001b[0m\u001b[0;34m(\u001b[0m\u001b[0mself\u001b[0m\u001b[0;34m.\u001b[0m\u001b[0msigma\u001b[0m\u001b[0;34m**\u001b[0m\u001b[0;36m2\u001b[0m\u001b[0;34m)\u001b[0m\u001b[0;34m)\u001b[0m\u001b[0;34m)\u001b[0m\u001b[0;34m/\u001b[0m\u001b[0mself\u001b[0m\u001b[0;34m.\u001b[0m\u001b[0mtrain_data\u001b[0m\u001b[0;34m.\u001b[0m\u001b[0mshape\u001b[0m\u001b[0;34m[\u001b[0m\u001b[0;36m0\u001b[0m\u001b[0;34m]\u001b[0m\u001b[0;34m)\u001b[0m\u001b[0;34m\u001b[0m\u001b[0m\n\u001b[0m\u001b[1;32m     16\u001b[0m \u001b[0;34m\u001b[0m\u001b[0m\n\u001b[1;32m     17\u001b[0m         \u001b[0;32mreturn\u001b[0m \u001b[0mlog_probs\u001b[0m\u001b[0;34m\u001b[0m\u001b[0m\n",
      "\u001b[0;31mIndexError\u001b[0m: index 1 is out of bounds for axis 0 with size 1"
     ]
    }
   ],
   "source": [
    "iris = np.loadtxt('iris.txt')\n",
    "train_cols = [0]\n",
    "\n",
    "iris_train1=iris[0:50,train_cols]\n",
    "\n",
    "parzen_model = parzen(1, 0.1)\n",
    "\n",
    "parzen_model.train(iris_train1)\n",
    "log_probs = parzen_model.compute_predictions(iris)\n",
    "\n",
    "plt.scatter(iris_train1)\n",
    "plt.show()"
   ]
  },
  {
   "cell_type": "markdown",
   "metadata": {},
   "source": [
    "## 4 Partie pratique: estimation de densité"
   ]
  },
  {
   "cell_type": "markdown",
   "metadata": {},
   "source": [
    "**Partie 1:** numpy.random"
   ]
  },
  {
   "cell_type": "code",
   "execution_count": 81,
   "metadata": {
    "collapsed": false
   },
   "outputs": [
    {
     "ename": "AttributeError",
     "evalue": "'NoneType' object has no attribute 'shape'",
     "output_type": "error",
     "traceback": [
      "\u001b[0;31m---------------------------------------------------------------------------\u001b[0m",
      "\u001b[0;31mAttributeError\u001b[0m                            Traceback (most recent call last)",
      "\u001b[0;32m<ipython-input-81-e6043cfe80e7>\u001b[0m in \u001b[0;36m<module>\u001b[0;34m()\u001b[0m\n\u001b[1;32m      3\u001b[0m \u001b[0mmixed_iris\u001b[0m \u001b[0;34m=\u001b[0m \u001b[0mnp\u001b[0m\u001b[0;34m.\u001b[0m\u001b[0mrandom\u001b[0m\u001b[0;34m.\u001b[0m\u001b[0mshuffle\u001b[0m\u001b[0;34m(\u001b[0m\u001b[0miris\u001b[0m\u001b[0;34m)\u001b[0m\u001b[0;34m\u001b[0m\u001b[0m\n\u001b[1;32m      4\u001b[0m \u001b[0;34m\u001b[0m\u001b[0m\n\u001b[0;32m----> 5\u001b[0;31m \u001b[0miris_train\u001b[0m \u001b[0;34m=\u001b[0m \u001b[0mmixed_iris\u001b[0m\u001b[0;34m[\u001b[0m\u001b[0;34m:\u001b[0m\u001b[0;34m,\u001b[0m\u001b[0;36m0.5\u001b[0m\u001b[0;34m*\u001b[0m\u001b[0mmixed_iris\u001b[0m\u001b[0;34m.\u001b[0m\u001b[0mshape\u001b[0m\u001b[0;34m[\u001b[0m\u001b[0;36m0\u001b[0m\u001b[0;34m]\u001b[0m\u001b[0;34m]\u001b[0m\u001b[0;34m\u001b[0m\u001b[0m\n\u001b[0m\u001b[1;32m      6\u001b[0m \u001b[0miris_valid\u001b[0m \u001b[0;34m=\u001b[0m \u001b[0mmixed_iris\u001b[0m\u001b[0;34m[\u001b[0m\u001b[0;36m0.5\u001b[0m\u001b[0;34m*\u001b[0m\u001b[0mmixed_iris\u001b[0m\u001b[0;34m.\u001b[0m\u001b[0mshape\u001b[0m\u001b[0;34m[\u001b[0m\u001b[0;36m0\u001b[0m\u001b[0;34m]\u001b[0m\u001b[0;34m,\u001b[0m \u001b[0;34m:\u001b[0m\u001b[0;34m]\u001b[0m\u001b[0;34m\u001b[0m\u001b[0m\n",
      "\u001b[0;31mAttributeError\u001b[0m: 'NoneType' object has no attribute 'shape'"
     ]
    }
   ],
   "source": [
    "np.random.seed(123)\n",
    "\n",
    "mixed_iris = np.random.shuffle(iris)\n",
    "\n",
    "iris_train = mixed_iris[:,0.5*mixed_iris.shape[0]]\n",
    "iris_valid = mixed_iris[0.5*mixed_iris.shape[0], :]"
   ]
  }
 ],
 "metadata": {
  "anaconda-cloud": {},
  "kernelspec": {
   "display_name": "Python 3",
   "language": "python",
   "name": "python3"
  },
  "language_info": {
   "codemirror_mode": {
    "name": "ipython",
    "version": 3
   },
   "file_extension": ".py",
   "mimetype": "text/x-python",
   "name": "python",
   "nbconvert_exporter": "python",
   "pygments_lexer": "ipython3",
   "version": "3.5.2"
  }
 },
 "nbformat": 4,
 "nbformat_minor": 1
}
