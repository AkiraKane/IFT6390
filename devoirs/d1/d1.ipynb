{
 "cells": [
  {
   "cell_type": "markdown",
   "metadata": {
    "deletable": true,
    "editable": true
   },
   "source": [
    "# IFT3395/6390: Devoir 1\n",
    "\n",
    "Mahmoud Abou-Nassif C2840\n",
    "\n",
    "Jean Archambault\n",
    "\n",
    "---\n",
    "\n",
    "## 1 Petit exercice de probabilités\n",
    "\n",
    "On modélise le problème de la façon suivante:\n",
    "\n",
    "$$ X_1 \\in \\{P, N\\} \\quad et \\quad X_2 \\in \\{C, B\\}$$\n",
    "\n",
    "Où  \n",
    "\n",
    "\n",
    "$P$ : Test positif  \n",
    "$N$ : Test negatif  \n",
    "$C$ : Cancer  \n",
    "$B$ : Benin  \n",
    "\n",
    "D'après l'énoncé, on a déja les egalités suivantes:\n",
    "\n",
    "- $ P(X_2=C)=0.01 $  \n",
    "- $ P(X_1=P| X_2=C)=0.8 $\n",
    "- $ P(X_1=P| X_2=B)=0.096 $  \n",
    "\n",
    "La question consiste à trouver la probabilité suivante: \n",
    "\n",
    "$$ P(X_2=C|X_1=P)$$\n",
    "\n",
    "On peut déduire la probabilité de l'absence d'un cancer du sein chez les femmes dans la quarantaine participant à un test de routine:    \n",
    "\n",
    "$$ P(X_2=B) = 1 - P(X_2=C) = 0.99 $$\n",
    "\n",
    "D'après la règle de Bayes on a:\n",
    "\n",
    "$$ \n",
    "\\begin{align}\n",
    "P(X_2=C|X_1=P) & = \\frac{P(X_1=P|X_2=C)P(X_2=C)}{P(X_1=P)} \\\\   \n",
    "& = \\frac{P(X_1=P|X_2=C)P(X_2=C)}{P(X_1=P|X_2=C)P(X_2=C) + P(X_1=P|X_2=B)P(X_2=B)}\\approx 7.76\\% \n",
    "\\end{align} \n",
    "$$\n",
    "\n",
    "\n",
    "On déduit que la réponse des médecins est incorrecte. La probabilité est moins de 10% donc réponse $F)$"
   ]
  },
  {
   "cell_type": "markdown",
   "metadata": {
    "deletable": true,
    "editable": true
   },
   "source": [
    "## 3 Partie pratique: estimation de densité\n"
   ]
  },
  {
   "cell_type": "code",
   "execution_count": 1,
   "metadata": {
    "collapsed": true,
    "deletable": true,
    "editable": true
   },
   "outputs": [],
   "source": [
    "import numpy as np\n",
    "import matplotlib.pyplot as plt\n",
    "from matplotlib.font_manager import FontProperties"
   ]
  },
  {
   "cell_type": "markdown",
   "metadata": {
    "deletable": true,
    "editable": true
   },
   "source": [
    "**Partie 1:** Estimateur de densité paramétrique Gaussien diagonal `gauss_mv`"
   ]
  },
  {
   "cell_type": "code",
   "execution_count": 2,
   "metadata": {
    "collapsed": true,
    "deletable": true,
    "editable": true
   },
   "outputs": [],
   "source": [
    "class gauss:\n",
    "    \n",
    "    def __init__(self,n_dims):\n",
    "        self.n_dims = n_dims\n",
    "        \n",
    "    def train(self, train_data):\n",
    "        self.mu = np.mean(train_data, axis=0)\n",
    "        self.sigma_sq = np.sum((train_data - self.mu) ** 2.0, axis = 0) / train_data.shape[0] \n",
    "    \n",
    "    def compute_predictions(self, test_data):\n",
    "        c = -self.n_dims * np.log(2*np.pi)/2.0 - np.log(np.prod(self.sigma_sq))/2.0\n",
    "        return c - np.sum((test_data -  self.mu)**2.0/ (2.0 * self.sigma_sq),axis=1)"
   ]
  },
  {
   "cell_type": "markdown",
   "metadata": {
    "deletable": true,
    "editable": true
   },
   "source": [
    "**Partie 2:** Un estimateur de densité Parzen à noyau isotropique `parzen`"
   ]
  },
  {
   "cell_type": "code",
   "execution_count": 3,
   "metadata": {
    "collapsed": false,
    "deletable": true,
    "editable": true
   },
   "outputs": [],
   "source": [
    "class parzen:\n",
    "    \n",
    "    def __init__(self, n_dims, sigma=1):\n",
    "        self.sigma = sigma\n",
    "        self.n_dims = n_dims\n",
    "        \n",
    "        self.c = 1/(((2*np.pi)**(self.n_dims/2))*(sigma**self.n_dims))\n",
    "    \n",
    "    def train(self, train_data):\n",
    "        self.train_data = train_data\n",
    "    \n",
    "    def compute_predictions(self, test_data):\n",
    "        log_probs = np.ones(test_data.shape[0])\n",
    "    \n",
    "        for (i,ex) in enumerate(test_data):\n",
    "            log_probs[i] = np.log(np.sum(self.c*np.exp((-0.5*np.sum((self.train_data - ex)**2, axis=0))/(self.sigma**2)))/self.train_data.shape[0])\n",
    "        \n",
    "        return log_probs"
   ]
  },
  {
   "cell_type": "markdown",
   "metadata": {
    "deletable": true,
    "editable": true
   },
   "source": [
    "**Partie 3:** Densités 1D"
   ]
  },
  {
   "cell_type": "code",
   "execution_count": 11,
   "metadata": {
    "collapsed": false,
    "deletable": true,
    "editable": true
   },
   "outputs": [
    {
     "data": {
      "image/png": "[encoded data removed]",
      "text/plain": [
       "<matplotlib.figure.Figure at 0x10da7b3c8>"
      ]
     },
     "metadata": {},
     "output_type": "display_data"
    }
   ],
   "source": [
    "iris = np.loadtxt('iris.txt')\n",
    "train_cols = [0]\n",
    "\n",
    "iris_train1=iris[0:50,train_cols]\n",
    "\n",
    "gauss_model = gauss(1)\n",
    "petit_parzen_model = parzen(1, 5)\n",
    "grand_parzen_model = parzen(1, 10)\n",
    "correct_parzen_model = parzen(1, 15)\n",
    "\n",
    "gauss_model.train(iris_train1)\n",
    "petit_parzen_model.train(iris_train1)\n",
    "grand_parzen_model.train(iris_train1)\n",
    "correct_parzen_model.train(iris_train1)\n",
    "\n",
    "gauss_log_preds = gauss_model.compute_predictions(iris_train1)\n",
    "petit_parzen_log_preds = petit_parzen_model.compute_predictions(iris_train1)\n",
    "grand_parzen_log_preds = grand_parzen_model.compute_predictions(iris_train1)\n",
    "correct_parzen_log_preds = correct_parzen_model.compute_predictions(iris_train1)\n",
    "\n",
    "fontP = FontProperties()\n",
    "fontP.set_size('small')\n",
    "\n",
    "plt.scatter(iris_train1, np.zeros(iris_train1.shape[0]), label='Train data')\n",
    "\n",
    "plt.scatter(iris_train1, gauss_log_preds, color='red', label='Gaussian Distribution')\n",
    "plt.scatter(iris_train1, petit_parzen_log_preds, color='green', label='Parzen Distribution Petit Sigma')\n",
    "plt.scatter(iris_train1, grand_parzen_log_preds, color='yellow', label='Parzen Distribution Grand Sigma')\n",
    "plt.scatter(iris_train1, correct_parzen_log_preds, color='black', label='Parzen Distribution Correct Sigma')\n",
    "\n",
    "plt.legend(loc='lower left', bbox_to_anchor=(1,1), prop = fontP)\n",
    "\n",
    "plt.show()"
   ]
  },
  {
   "cell_type": "markdown",
   "metadata": {},
   "source": [
    "**Partie 4:** Densités 2D"
   ]
  },
  {
   "cell_type": "code",
   "execution_count": 25,
   "metadata": {
    "collapsed": false
   },
   "outputs": [
    {
     "data": {
      "image/png": "[encoded data removed]",
      "text/plain": [
       "<matplotlib.figure.Figure at 0x10ddd3208>"
      ]
     },
     "metadata": {},
     "output_type": "display_data"
    }
   ],
   "source": [
    "iris = np.loadtxt('iris.txt')\n",
    "train_cols = [0,1]\n",
    "\n",
    "iris_train1=iris[0:50,train_cols]\n",
    "\n",
    "gauss_model = gauss(2)\n",
    "petit_parzen_model = parzen(2, 0.5)\n",
    "grand_parzen_model = parzen(2, 3)\n",
    "correct_parzen_model = parzen(2, 10)\n",
    "\n",
    "gauss_model.train(iris_train1)\n",
    "petit_parzen_model.train(iris_train1)\n",
    "grand_parzen_model.train(iris_train1)\n",
    "correct_parzen_model.train(iris_train1)\n",
    "\n",
    "gauss_log_preds = gauss_model.compute_predictions(iris_train1)\n",
    "petit_parzen_log_preds = petit_parzen_model.compute_predictions(iris_train1)\n",
    "grand_parzen_log_preds = grand_parzen_model.compute_predictions(iris_train1)\n",
    "correct_parzen_log_preds = correct_parzen_model.compute_predictions(iris_train1)\n",
    "\n",
    "fontP = FontProperties()\n",
    "fontP.set_size('small')\n",
    "\n",
    "plt.scatter(iris_train1[:,0], iris_train1[:,1], label='Train data')\n",
    "\n",
    "plt.scatter(list(range(iris_train1.shape[0])), gauss_log_preds, color='red', label='Gaussian Distribution')\n",
    "plt.scatter(list(range(iris_train1.shape[0])), petit_parzen_log_preds, color='green', label='Parzen Distribution Petit Sigma')\n",
    "plt.scatter(list(range(iris_train1.shape[0])), grand_parzen_log_preds, color='yellow', label='Parzen Distribution Grand Sigma')\n",
    "plt.scatter(list(range(iris_train1.shape[0])), correct_parzen_log_preds, color='black', label='Parzen Distribution Correct Sigma')\n",
    "\n",
    "plt.legend(loc='lower left', bbox_to_anchor=(1,1), prop = fontP)\n",
    "\n",
    "plt.show()"
   ]
  },
  {
   "cell_type": "markdown",
   "metadata": {
    "deletable": true,
    "editable": true
   },
   "source": [
    "## 4 Partie pratique: estimation de densité"
   ]
  },
  {
   "cell_type": "markdown",
   "metadata": {
    "deletable": true,
    "editable": true
   },
   "source": [
    "**Partie 1:** numpy.random"
   ]
  },
  {
   "cell_type": "code",
   "execution_count": 6,
   "metadata": {
    "collapsed": false,
    "deletable": true,
    "editable": true
   },
   "outputs": [],
   "source": [
    "np.random.seed(123)\n",
    "\n",
    "idx = list(range(0,iris.shape[0]))\n",
    "np.random.shuffle(idx)\n",
    "\n",
    "milieu = int(iris.shape[0]/2)\n",
    "iris_train = iris[idx[:milieu]]\n",
    "iris_valid = iris[idx[milieu:]]"
   ]
  }
 ],
 "metadata": {
  "anaconda-cloud": {},
  "kernelspec": {
   "display_name": "Python 3",
   "language": "python",
   "name": "python3"
  },
  "language_info": {
   "codemirror_mode": {
    "name": "ipython",
    "version": 3
   },
   "file_extension": ".py",
   "mimetype": "text/x-python",
   "name": "python",
   "nbconvert_exporter": "python",
   "pygments_lexer": "ipython3",
   "version": "3.5.2"
  }
 },
 "nbformat": 4,
 "nbformat_minor": 1
}
